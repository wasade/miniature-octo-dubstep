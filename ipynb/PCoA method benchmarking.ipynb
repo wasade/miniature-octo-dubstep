{
 "metadata": {
  "name": "",
  "signature": "sha256:bebef3cf76a6370987290255364ce3c8127cddf65b20857e2a7b64b0cf954766"
 },
 "nbformat": 3,
 "nbformat_minor": 0,
 "worksheets": [
  {
   "cells": [
    {
     "cell_type": "markdown",
     "metadata": {},
     "source": [
      "The purpose of this Notebook is to benchmark different methods for principal coordinates analysis (API). This Notebook depends on scikit-bio 0.2.3-dev, which includes a revised PCoA API. The specific methods to be evaluated are:\n",
      "\n",
      "* Current QIIME default (`eigh`)\n",
      "* Split-combine MDS (`scmds`)\n",
      "* Nystrom (`nystrom`)\n",
      "* LAPACK (`svd`)\n",
      "* Stochastic SVD (`ssvd`)\n",
      "* Fast SVD (`fsvd`)\n",
      "* IR Arnoldi-Lanczos (`eigsh`)\n",
      "\n",
      "Support for `eigh` and `eigsh` is already provided by NumPy and SciPy respectively, and are available through scikit-bio. The remaining methods are implemented within this Notebook. "
     ]
    },
    {
     "cell_type": "code",
     "collapsed": false,
     "input": [
      "from __future__ import absolute_import, division, print_function\n",
      "from unittest import TestCase, main as unittest_main\n",
      "\n",
      "import numpy.testing as npt\n",
      "import numpy as np\n",
      "import scipy as sp\n",
      "import scipy.sparse\n",
      "import scipy.sparse.linalg\n",
      "from skbio.stats.ordination import PCoABase, OrdinationResults\n",
      "\n",
      "class DecompTests(TestCase):\n",
      "    def setUp(self):\n",
      "        np.random.seed(0)\n",
      "        self.mat1 = np.random.randn(9, 6)\n",
      "        self.mat2 = np.dot(self.mat1.T, self.mat1)"
     ],
     "language": "python",
     "metadata": {},
     "outputs": [],
     "prompt_number": 36
    },
    {
     "cell_type": "markdown",
     "metadata": {},
     "source": [
      "Stochastic SVD, as derived from the R [implementation](https://mahout.apache.org/users/dim-reduction/ssvd.html)."
     ]
    },
    {
     "cell_type": "code",
     "collapsed": false,
     "input": [
      "# Method implemented by Jamie Morton and Antonio Gonzalez\n",
      "def ssvd(A, k=10, p=10, qiter=0, compute_v=True,  **kwargs):\n",
      "    \"\"\"Runs the SSVD method\n",
      "\n",
      "    This method is based on the algorithm described in \"Finding Structure with\n",
      "    Randomness: Probabilistic Algorithms for Constructing Approximate Matrix\n",
      "    Decompositions [1]. The method implemented is derived from the R\n",
      "    implementation found in [2].\n",
      "\n",
      "    Parameters\n",
      "    ----------\n",
      "    A : np.ndarray\n",
      "        The result of PCoABase._A\n",
      "    k : unsigned int, optional\n",
      "        The number of eigenvectors and values to find. A lower k will result in\n",
      "        lower quality resulting eignvectors and values.\n",
      "    p : unsigned int, optional\n",
      "        Oversampling parameter, this is added to k to boost accuracy.\n",
      "    qiter : unsigned int, optional\n",
      "        The number of iterations to perform.\n",
      "    compute_v : bool, optional\n",
      "        Whether or not to compute u v in addition to s. True by default.\n",
      "\n",
      "    Returns\n",
      "    -------\n",
      "    eigvals: np.ndarray\n",
      "        The resulting k eigenvalues.\n",
      "    U_ssvd: np.ndarray\n",
      "        The first set of resulting k eigenvectors.\n",
      "    V_ssvd: np.ndarray\n",
      "        The second set of resulting k eigenvectors.\n",
      "        Returned only if compute_v is true\n",
      "\n",
      "    References\n",
      "    ----------\n",
      "    .. [1] http://epubs.siam.org/doi/abs/10.1137/090771806\n",
      "    .. [2] https://mahout.apache.org/users/dim-reduction/ssvd.html\n",
      "\n",
      "    \"\"\"\n",
      "\n",
      "    A = np.atleast_2d(A)\n",
      "    if A.ndim > 2:\n",
      "        raise ValueError(\"Input matrix can only have two dimensions or less\")\n",
      "\n",
      "    m, n = A.shape\n",
      "\n",
      "    p = min(min(m, n) - k, p)      # an mxn matrix M has at most p = min(m,n) unique\n",
      "                                   # singular values\n",
      "    r = k + p                      # rank plus oversampling parameter p\n",
      "\n",
      "    omega = np.random.standard_normal(size = (n, r))   # generate random matrix omega\n",
      "    y = np.dot(A, omega)           # compute a sample matrix Y: apply A to random\n",
      "                                   # vectors to identify part of its range corresponding\n",
      "                                   # to largest singular values\n",
      "    Q, R = sp.linalg.qr(y)         # find an ON matrix st. Y = QQ'Y\n",
      "    b = np.dot(Q.T, A)             # multiply A by Q whose columns form\n",
      "                                   # an orthonormal basis for the range of Y\n",
      "\n",
      "    #often, no iteration required to small error in eqn. 1.5\n",
      "    for i in range(qiter):\n",
      "        y = np.dot(A, b.T)\n",
      "        Q, R = sp.linalg.qr(y)\n",
      "        b = np.dot(Q.T, A)\n",
      "\n",
      "    bbt = np.dot(b, b.T)\n",
      "    eigvals, U_ssvd = scipy.sparse.linalg.eigsh(bbt, k)\n",
      "    if compute_v: # compute svd of much smaller matrix b\n",
      "        V_ssvd = np.dot(b.T, np.dot(U_ssvd, np.diag(1 / np.sqrt(eigvals))))\n",
      "        U_ssvd = np.dot(Q, U_ssvd)\n",
      "        return np.sqrt(eigvals), U_ssvd, V_ssvd.T\n",
      "    else:\n",
      "        U_ssvd = np.dot(Q, U_ssvd)\n",
      "        return np.sqrt(eigvals), U_ssvd\n",
      "\n",
      "\n",
      "class SSVDTests(DecompTests):\n",
      "    def test_ssvd(self):\n",
      "        np.random.seed(0)\n",
      "        test_s, test_U, test_V = ssvd(self.mat1, k=3)\n",
      "        actual_U, actual_s, actual_V = scipy.sparse.linalg.svds(self.mat1, k=3)\n",
      "        npt.assert_allclose(-1*test_U, actual_U, rtol=4)\n",
      "        npt.assert_allclose(test_s, actual_s, rtol=4)\n",
      "        npt.assert_allclose(-1*test_V, actual_V, rtol=4)\n",
      "\n",
      "    def test_ssvd_eig(self):\n",
      "        np.random.seed(0)\n",
      "        test_s, test_U = ssvd(self.mat2, k=5, compute_v=False)\n",
      "        actual_s, actual_U = scipy.sparse.linalg.eigsh(self.mat2, k=5)\n",
      "        npt.assert_allclose(-1*test_U, actual_U, rtol=4)\n",
      "        npt.assert_allclose(test_s, actual_s, rtol=4)"
     ],
     "language": "python",
     "metadata": {},
     "outputs": [],
     "prompt_number": 37
    },
    {
     "cell_type": "markdown",
     "metadata": {},
     "source": [
      "Split-combine MDS"
     ]
    },
    {
     "cell_type": "code",
     "collapsed": false,
     "input": [
      "def scmds(A):\n",
      "    raise NotImplementedError\n",
      "\n",
      "\n",
      "def scmds_scores(ids, eigvals, eigvecs):\n",
      "    raise NotImplementedError\n",
      "    \n",
      "    \n",
      "class SCMDSTests(DecompTests):\n",
      "    def test_scmds(self):\n",
      "        self.fail()\n",
      "        \n",
      "    def test_scmds_scores(self):\n",
      "        self.fail()"
     ],
     "language": "python",
     "metadata": {},
     "outputs": [],
     "prompt_number": 38
    },
    {
     "cell_type": "markdown",
     "metadata": {},
     "source": [
      "Nystrom"
     ]
    },
    {
     "cell_type": "code",
     "collapsed": false,
     "input": [
      "def nystrom(A, **kwargs):\n",
      "    raise NotImplementedError\n",
      "\n",
      "\n",
      "def nystrom_scores(ids, eigvals, eigvecs):\n",
      "    raise NotImplementedError\n",
      "    \n",
      "class NystromTests(DecompTests):\n",
      "    def test_scmds(self):\n",
      "        self.fail()\n",
      "        \n",
      "    def test_nystrom_scores(self):\n",
      "        self.fail()"
     ],
     "language": "python",
     "metadata": {},
     "outputs": [],
     "prompt_number": 39
    },
    {
     "cell_type": "markdown",
     "metadata": {},
     "source": [
      "FSVD"
     ]
    },
    {
     "cell_type": "code",
     "collapsed": false,
     "input": [
      "def fsvd(A, **kwargs):\n",
      "    raise NotImplementedError\n",
      "\n",
      "    \n",
      "class FSVDTests(DecompTests):\n",
      "    def test_fsvd(self):\n",
      "        self.fail()"
     ],
     "language": "python",
     "metadata": {},
     "outputs": [],
     "prompt_number": 40
    },
    {
     "cell_type": "markdown",
     "metadata": {},
     "source": [
      "Execute all the associated test code for the decomposition and scoring methods (where appropriate)."
     ]
    },
    {
     "cell_type": "code",
     "collapsed": false,
     "input": [
      "_ = unittest_main(exit=False, argv=['ipynb'])"
     ],
     "language": "python",
     "metadata": {},
     "outputs": [
      {
       "output_type": "stream",
       "stream": "stderr",
       "text": [
        "F"
       ]
      },
      {
       "output_type": "stream",
       "stream": "stderr",
       "text": [
        "F"
       ]
      },
      {
       "output_type": "stream",
       "stream": "stderr",
       "text": [
        "F"
       ]
      },
      {
       "output_type": "stream",
       "stream": "stderr",
       "text": [
        "F"
       ]
      },
      {
       "output_type": "stream",
       "stream": "stderr",
       "text": [
        "F"
       ]
      },
      {
       "output_type": "stream",
       "stream": "stderr",
       "text": [
        "."
       ]
      },
      {
       "output_type": "stream",
       "stream": "stderr",
       "text": [
        "."
       ]
      },
      {
       "output_type": "stream",
       "stream": "stderr",
       "text": [
        "\n",
        "======================================================================\n",
        "FAIL: test_fsvd (__main__.FSVDTests)\n",
        "----------------------------------------------------------------------\n",
        "Traceback (most recent call last):\n",
        "  File \"<ipython-input-40-e6ad2152c9d0>\", line 7, in test_fsvd\n",
        "    self.fail()\n",
        "AssertionError: None\n",
        "\n",
        "======================================================================\n",
        "FAIL: test_nystrom_scores (__main__.NystromTests)\n",
        "----------------------------------------------------------------------\n",
        "Traceback (most recent call last):\n",
        "  File \"<ipython-input-39-d84a53266cc3>\", line 13, in test_nystrom_scores\n",
        "    self.fail()\n",
        "AssertionError: None\n",
        "\n",
        "======================================================================\n",
        "FAIL: test_scmds (__main__.NystromTests)\n",
        "----------------------------------------------------------------------\n",
        "Traceback (most recent call last):\n",
        "  File \"<ipython-input-39-d84a53266cc3>\", line 10, in test_scmds\n",
        "    self.fail()\n",
        "AssertionError: None\n",
        "\n",
        "======================================================================\n",
        "FAIL: test_scmds (__main__.SCMDSTests)\n",
        "----------------------------------------------------------------------\n",
        "Traceback (most recent call last):\n",
        "  File \"<ipython-input-38-52de35b3c930>\", line 11, in test_scmds\n",
        "    self.fail()\n",
        "AssertionError: None\n",
        "\n",
        "======================================================================\n",
        "FAIL: test_scmds_scores (__main__.SCMDSTests)\n",
        "----------------------------------------------------------------------\n",
        "Traceback (most recent call last):\n",
        "  File \"<ipython-input-38-52de35b3c930>\", line 14, in test_scmds_scores\n",
        "    self.fail()\n",
        "AssertionError: None\n",
        "\n",
        "----------------------------------------------------------------------\n",
        "Ran 7 tests in 0.006s\n",
        "\n",
        "FAILED (failures=5)\n"
       ]
      }
     ],
     "prompt_number": 41
    },
    {
     "cell_type": "code",
     "collapsed": false,
     "input": [
      "def default_score_method(ids, eigvals, eigvecs):\n",
      "    # this is an adaption of skbio's PCoA.scores. This method is explicitly not\n",
      "    # tested as it is identical (short of referring to self) to the skbio implementation\n",
      "    num_positive = (eigvals >= 0).sum()\n",
      "    eigvecs = eigvecs\n",
      "    eigvecs[:, num_positive:] = np.zeros(eigvecs[:, num_positive:].shape)\n",
      "    eigvals = eigvals\n",
      "    eigvals[num_positive:] = np.zeros(eigvals[num_positive:].shape)\n",
      "\n",
      "    coordinates = eigvecs * np.sqrt(eigvals)\n",
      "\n",
      "    proportion_explained = eigvals / eigvals.sum()\n",
      "\n",
      "    return OrdinationResults(eigvals=eigvals, site=coordinates,\n",
      "                             proportion_explained=proportion_explained,\n",
      "                             site_ids=ids)\n",
      "\n",
      "class APCoA(PCoABase):\n",
      "    short_method_name = 'APCoA'\n",
      "    long_method_name = 'Approximate Principal Coordinate Analysis'\n",
      "    \n",
      "    # The eig method dictionary is expected to be {\"method_name\": function}\n",
      "    # where the function must accept an F_matrix (the result of PCoABase._F_matrix)\n",
      "    # and **kwargs. The method must return (eigvals, eigvecs).\n",
      "    eig_methods = {'ssvd': ssvd,\n",
      "                   'fsvd': fsvd,\n",
      "                   'nystrom': nystrom,\n",
      "                   'scmds': scmds}  \n",
      "    \n",
      "    # The score methods dictionary is expected to be {\"method_name\": function}\n",
      "    # with a 1-1 mapping of the keys to eig_methods. The function must accept\n",
      "    # ids. eigvals, eigvecs and **kwargs. The method must return an OrdinationResults\n",
      "    # object.\n",
      "    score_methods = {'ssvd': default_score_method,\n",
      "                     'fsvd': default_score_method,\n",
      "                     'nystrom': nystrom_scores,\n",
      "                     'scmds': scmds_scores}  \n",
      "    \n",
      "    def scores(self):\n",
      "        return self.score_methods[self._eig_name](self.ids, self.eigvals, self.eigvecs)"
     ],
     "language": "python",
     "metadata": {},
     "outputs": [],
     "prompt_number": 42
    },
    {
     "cell_type": "code",
     "collapsed": false,
     "input": [],
     "language": "python",
     "metadata": {},
     "outputs": []
    }
   ],
   "metadata": {}
  }
 ]
}